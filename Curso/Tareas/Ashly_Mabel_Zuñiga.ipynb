{
  "cells": [
    {
      "cell_type": "code",
      "execution_count": null,
      "metadata": {
        "colab": {
          "base_uri": "https://localhost:8080/"
        },
        "id": "fGmGH8NcbEdg",
        "outputId": "0cfdd485-28a9-4509-d795-d1bd9d92c8c8"
      },
      "outputs": [
        {
          "name": "stdout",
          "output_type": "stream",
          "text": [
            "Python 3.7.12\n"
          ]
        }
      ],
      "source": [
        "!python --version\n"
      ]
    },
    {
      "cell_type": "markdown",
      "metadata": {
        "id": "GPFqJ4pWeQOJ"
      },
      "source": [
        "# Problema 1\n",
        "\n",
        "En este inciso abrimos el documento de Vibrio Cholerae y extendemos el contenido del documento y vemos cuanto es su longitud. "
      ]
    },
    {
      "cell_type": "code",
      "execution_count": 59,
      "metadata": {
        "colab": {
          "base_uri": "https://localhost:8080/",
          "height": 73,
          "resources": {
            "http://localhost:8080/nbextensions/google.colab/files.js": {
              "data": "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",
              "headers": [
                [
                  "content-type",
                  "application/javascript"
                ]
              ],
              "ok": true,
              "status": 200,
              "status_text": ""
            }
          }
        },
        "id": "CRaUJj0IiD2q",
        "outputId": "51872877-530f-4cc6-f16f-1e1ff0685a12"
      },
      "outputs": [
        {
          "data": {
            "text/html": [
              "\n",
              "     <input type=\"file\" id=\"files-ea333e57-b172-4842-94c1-01d5ee47c89d\" name=\"files[]\" multiple disabled\n",
              "        style=\"border:none\" />\n",
              "     <output id=\"result-ea333e57-b172-4842-94c1-01d5ee47c89d\">\n",
              "      Upload widget is only available when the cell has been executed in the\n",
              "      current browser session. Please rerun this cell to enable.\n",
              "      </output>\n",
              "      <script src=\"/nbextensions/google.colab/files.js\"></script> "
            ],
            "text/plain": [
              "<IPython.core.display.HTML object>"
            ]
          },
          "metadata": {},
          "output_type": "display_data"
        },
        {
          "name": "stdout",
          "output_type": "stream",
          "text": [
            "Saving Vibrio_cholerae.txt to Vibrio_cholerae.txt\n"
          ]
        }
      ],
      "source": [
        "from google.colab import files \n",
        "uploaded= files.upload()"
      ]
    },
    {
      "cell_type": "code",
      "execution_count": 1,
      "metadata": {
        "id": "vOHaoxr8iuXV"
      },
      "outputs": [],
      "source": [
        "filename= \"Vibrio_cholerae.txt\"\n",
        "\n",
        "with open(filename,'r', encoding= 'utf8') as file: \n",
        "  data=file.read()"
      ]
    },
    {
      "cell_type": "code",
      "execution_count": null,
      "metadata": {
        "colab": {
          "base_uri": "https://localhost:8080/"
        },
        "id": "FXL8fzdKo99J",
        "outputId": "0f329335-74c2-490c-e7f7-257224de7315"
      },
      "outputs": [],
      "source": [
        "print(data)\n",
        "print(len(data))"
      ]
    },
    {
      "cell_type": "markdown",
      "metadata": {
        "id": "I8-4GBNpem3D"
      },
      "source": [
        "#Problema 2\n",
        "Se desarrolló una función de python para obtener la cantidad de nucleótidos que\n",
        "tiene una cadena en total y se obtuvo el porcentaje de adeninas, guaninas, citosinas y timinas que contiene la cadena. para eso se utilizó la función de porcentaje de cadenas y los parametros utilizados fuero, cadena y nucleotido. "
      ]
    },
    {
      "cell_type": "code",
      "execution_count": 3,
      "metadata": {
        "id": "OsRaGv0Ceqiy"
      },
      "outputs": [],
      "source": [
        "def porcentaje_de_nucleotidos(cadena,nucleotido):\n",
        "\n",
        "  longitud=len(cadena)\n",
        "  cantidad_nucleotido= cadena.count(nucleotido)\n",
        "  porcentaje=cantidad_nucleotido*100/longitud\n",
        "\n",
        "  return porcentaje, longitud"
      ]
    },
    {
      "cell_type": "code",
      "execution_count": 4,
      "metadata": {
        "colab": {
          "base_uri": "https://localhost:8080/"
        },
        "id": "LXd8w0B-ugCD",
        "outputId": "bb4bf2ab-a10d-4c31-bb82-ba1cd5dd60ce"
      },
      "outputs": [
        {
          "name": "stdout",
          "output_type": "stream",
          "text": [
            "Adeninas:26.523076923076925\n",
            "Timinas:26.59246559891721\n",
            "Guaninas:23.10164674035642\n",
            "Citocinas:23.78281073764945\n",
            "100.0\n",
            "longitud de cadena:1108250\n"
          ]
        }
      ],
      "source": [
        "A,l= porcentaje_de_nucleotidos(data, \"A\")\n",
        "T, l= porcentaje_de_nucleotidos(data, \"T\")\n",
        "G, l= porcentaje_de_nucleotidos(data, \"G\")\n",
        "C, l= porcentaje_de_nucleotidos(data, \"C\")\n",
        "\n",
        "print(\"Adeninas:\" + str(A))\n",
        "print(\"Timinas:\" + str(T))\n",
        "print(\"Guaninas:\" + str(G))\n",
        "print(\"Citocinas:\" + str(C))\n",
        "\n",
        "print(A+T+G+C)\n",
        "\n",
        "print(\"longitud de cadena:\" + str(l))"
      ]
    },
    {
      "cell_type": "markdown",
      "metadata": {
        "id": "4tgGHZHBesUQ"
      },
      "source": [
        "# Problema 3\n",
        "Se desarollo una funcion en la cual se agrego un índice de inicio y se obtuvo 100 nucleotidos. Luego se obtuvo la cadena correspondiente, sin embargo por más que desarrollé la cadena y repetí todos los videos de las clases no me imprime. "
      ]
    },
    {
      "cell_type": "code",
      "execution_count": 5,
      "metadata": {
        "id": "qK3ybA6fewXy"
      },
      "outputs": [],
      "source": [
        "def buscar_complemento(cadena, indice): \n",
        "  diccionario_cadenas= {'cadena':''}\n",
        "  return diccionario_cadenas\n",
        " "
      ]
    },
    {
      "cell_type": "code",
      "execution_count": 6,
      "metadata": {
        "colab": {
          "base_uri": "https://localhost:8080/"
        },
        "id": "9j313P8Je3F-",
        "outputId": "18e103f8-2324-4385-8daa-bedc81b90989"
      },
      "outputs": [
        {
          "name": "stdout",
          "output_type": "stream",
          "text": [
            "CAATGAGGTCACTATGTTCGAGCTCTTCAAACCGGCTGCGCATACGCAGCGGCTGCCATCCGATAAGGTGGACAGCGTCTATTCACGCCTTCGTTGGCAA\n"
          ]
        }
      ],
      "source": [
        "a = 1\n",
        "print (data [a: a+ 100])"
      ]
    },
    {
      "cell_type": "code",
      "execution_count": 12,
      "metadata": {
        "colab": {
          "base_uri": "https://localhost:8080/"
        },
        "id": "pcAtaOPkr8N8",
        "outputId": "87799b80-7bf3-48b9-e1f0-c0ac39b0558b"
      },
      "outputs": [
        {
          "name": "stdout",
          "output_type": "stream",
          "text": [
            "\n"
          ]
        }
      ],
      "source": [
        "def complemento(data):\n",
        "\n",
        "  reversed=\"\"\n",
        "  index= len(data)-1\n",
        "  \n",
        "  while index <=0:\n",
        "    if(data[index]==\"A\" or data[index]==\"a\"):\n",
        "      reversed+=\"T\"\n",
        "    elif(data[index]==\"T\" or data[index]==\"t\"):\n",
        "      reversed+=\"A\"\n",
        "    elif(data[index]==\"G\" or data[index]==\"g\"):\n",
        "      reversed+=\"C\"\n",
        "    elif(data[index]==\"C\" or data[index]==\"c\"):\n",
        "      reversed==\"G\"\n",
        "\n",
        "    index-=1\n",
        "    reversed += reversed\n",
        "  return reversed\n",
        "\n",
        "print(complemento(data [a: a+ 100]))\n"
      ]
    },
    {
      "cell_type": "markdown",
      "metadata": {
        "id": "VKlBhFeve3fi"
      },
      "source": [
        "# Problema 4\n",
        "Se desarrolló una función que encuentra los índices de una adena la cual se encuentra almacedada en una variable. "
      ]
    },
    {
      "cell_type": "code",
      "execution_count": 13,
      "metadata": {
        "id": "mcZt1frNe6BW"
      },
      "outputs": [],
      "source": [
        "def buscar_indices(cadena,subcadena): \n",
        "    indices= []\n",
        "    for i in range(0, len(cadena)-len(subcadena)+1):\n",
        "      subcadena_buscada = cadena[i:i+len(subcadena)]\n",
        "      if(subcadena == subcadena_buscada): \n",
        "        indices.append(i)\n",
        "    return indices"
      ]
    },
    {
      "cell_type": "code",
      "execution_count": 15,
      "metadata": {
        "colab": {
          "base_uri": "https://localhost:8080/"
        },
        "id": "jCZDyIdD9N1Q",
        "outputId": "18871513-c305-4d28-ada4-bb028f51b603"
      },
      "outputs": [
        {
          "data": {
            "text/plain": [
              "[48746, 164879, 188249, 559255, 659362]"
            ]
          },
          "execution_count": 15,
          "metadata": {},
          "output_type": "execute_result"
        }
      ],
      "source": [
        "buscar_indices(data,\"ACGTACTGA\")"
      ]
    },
    {
      "cell_type": "markdown",
      "metadata": {
        "id": "yIDNdhSSe8jN"
      },
      "source": [
        "#Problema 5\n",
        "Se desarrolló una función de python que encuentre el total de subcadenas que aparecen en la cadena."
      ]
    },
    {
      "cell_type": "code",
      "execution_count": 16,
      "metadata": {
        "id": "ZLRH69R-9Mnr"
      },
      "outputs": [],
      "source": [
        "def total_de_palabras(cadena, subcadena):\n",
        "\n",
        "  longitud=len(cadena)\n",
        "  cantidad_subcadena= cadena.count(subcadena)\n",
        "  total=cantidad_subcadena\n",
        "\n",
        "  return total, longitud"
      ]
    },
    {
      "cell_type": "code",
      "execution_count": 18,
      "metadata": {
        "colab": {
          "base_uri": "https://localhost:8080/"
        },
        "id": "hDcy3CTfe-Gb",
        "outputId": "a5aa3dad-4fd3-4da9-f301-00ab79fd9892"
      },
      "outputs": [
        {
          "name": "stdout",
          "output_type": "stream",
          "text": [
            "AA:5\n",
            "GT:58769\n",
            "CA:82213\n",
            "TG:79860\n"
          ]
        }
      ],
      "source": [
        "AA,l= total_de_palabras(data, \"AA\")\n",
        "GT,l= total_de_palabras(data, \"GT\")\n",
        "CA,l= total_de_palabras(data, \"CA\")\n",
        "TG,l= total_de_palabras(data, \"TG\")\n",
        "\n",
        "print(\"AA:\"+ str(AA))\n",
        "print(\"GT:\"+ str(GT))\n",
        "print(\"CA:\"+ str(CA))\n",
        "print(\"TG:\"+ str(TG))"
      ]
    },
    {
      "cell_type": "markdown",
      "metadata": {
        "id": "lAe45E3Fe-nM"
      },
      "source": [
        "#Problema 6\n",
        "Se desarrolló una cadena que genera subcadenas de nucleotidos a partir de una cadena principal y se obtuvieron los porcentajes de las subcadenas y se almacenaron de manera ordenada. "
      ]
    },
    {
      "cell_type": "code",
      "execution_count": 28,
      "metadata": {
        "id": "WR6tFhi1fA9R"
      },
      "outputs": [],
      "source": [
        "def split_equal_strings(cadena,substrings, nucleotido):\n",
        "  split_data=[]\n",
        "  k=len(cadena)//substrings\n",
        "\n",
        "  for i in range(0, len(cadena), k):\n",
        "    split_data.append(cadena[i:i+k])\n",
        "  return percentage_analysis(split_data, nucleotido)\n",
        "\n",
        "def percentage_analysis(split_array, nucleotido):\n",
        "  perc_data=[]\n",
        "\n",
        "  for i in range(0,len(split_array)):\n",
        "    long=len(split_array[i])\n",
        "    count=split_array[i].count(nucleotido)\n",
        "\n",
        "    perc=count*100/long\n",
        "    perc_data.append(perc)\n",
        "  return perc_data\n",
        "\n",
        "\n",
        "\n",
        "    "
      ]
    },
    {
      "cell_type": "code",
      "execution_count": 31,
      "metadata": {
        "colab": {
          "base_uri": "https://localhost:8080/"
        },
        "id": "V2FezpGYESDi",
        "outputId": "88416eaa-e42a-41aa-e692-3215f9895aa3"
      },
      "outputs": [
        {
          "name": "stdout",
          "output_type": "stream",
          "text": [
            "[25.07737423866456, 23.657117076471916, 22.730430859463116, 22.5237987818633, 22.417324610873, 24.35912474622152, 25.026844123618318, 22.999323257387772, 24.468305887660726, 24.568463794270247, 0.0]\n"
          ]
        }
      ],
      "source": [
        "datos_separados = split_equal_strings(data,10,\"C\")\n",
        "print(datos_separados)"
      ]
    },
    {
      "cell_type": "markdown",
      "metadata": {
        "id": "QyBM0yyqGDq4"
      },
      "source": [
        "#problema 7\n",
        "Se desarrollo una busqueda de la cantidad de veces que se repiten palabras de nucléotidos dentro de las cadenas de colera. "
      ]
    },
    {
      "cell_type": "code",
      "execution_count": 56,
      "metadata": {
        "id": "pLDrvjsOGJH2"
      },
      "outputs": [],
      "source": [
        "def search_words(cadena, longitud_palabra):\n",
        "  diccionario_retorno={}\n",
        "  return diccionario_retorno"
      ]
    },
    {
      "cell_type": "code",
      "execution_count": 57,
      "metadata": {
        "colab": {
          "base_uri": "https://localhost:8080/"
        },
        "id": "GcOI-RBtTkBe",
        "outputId": "984142b5-32ff-48a4-c83b-44777e8ecb95"
      },
      "outputs": [
        {
          "name": "stdout",
          "output_type": "stream",
          "text": [
            "[('AAA\\n', 1108251), ('AA\\n', 1108251), ('A\\n', 1108251), ('\\n', 1108251), ('CTAG', 1109655), ('GGAC', 1109694), ('GTCC', 1109731), ('CCGG', 1110109), ('GGGG', 1110127), ('GGAG', 1110143), ('TATA', 1110185), ('CCCC', 1110208), ('CGGG', 1110230), ('TAGG', 1110230), ('CTCC', 1110310), ('AGAC', 1110315), ('GTCT', 1110321), ('AGGG', 1110387), ('CCTA', 1110420), ('CCCG', 1110441), ('TCCT', 1110442), ('CCTC', 1110449), ('CCCT', 1110451), ('AGGA', 1110451), ('TAGT', 1110452), ('GAGG', 1110496), ('GGGA', 1110498), ('ACTA', 1110549), ('GTAG', 1110596), ('TAGA', 1110596), ('GGTC', 1110599), ('TCCC', 1110608), ('GACG', 1110686), ('CTAC', 1110690), ('CGTC', 1110700), ('CGGA', 1110704), ('TCTA', 1110744), ('GACC', 1110758), ('TCCG', 1110777), ('GGCC', 1110810), ('GTAC', 1110813), ('AGTC', 1110836), ('CAGG', 1110852), ('CCTG', 1110894), ('GGGC', 1110902), ('TACG', 1110977), ('ACGT', 1110983), ('GGGT', 1110996), ('CTAT', 1111000), ('TGTA', 1111050), ('CGTA', 1111069), ('GACT', 1111090), ('GCCC', 1111106), ('ACGG', 1111125), ('ATAG', 1111148), ('GTCG', 1111155), ('TACA', 1111180), ('ACCC', 1111183), ('TGTC', 1111195), ('CCGT', 1111226), ('ACGA', 1111291), ('AGTA', 1111308), ('CGAG', 1111316), ('GCTA', 1111320), ('GAGA', 1111335), ('TCGT', 1111341), ('GTAT', 1111354), ('TTAG', 1111357), ('TATG', 1111365), ('GTGT', 1111408), ('CTCG', 1111410), ('AGGT', 1111421), ('CGTG', 1111433), ('GACA', 1111456), ('TAGC', 1111478), ('CGAC', 1111503), ('TACT', 1111539), ('TCTC', 1111549), ('CTTA', 1111570), ('GAAC', 1111576), ('ACCT', 1111624), ('GTTC', 1111658), ('GGAA', 1111661), ('ATAC', 1111671), ('GGTA', 1111688), ('CTAA', 1111688), ('GCCT', 1111689), ('CACG', 1111716), ('CTGT', 1111717), ('TTCC', 1111717), ('GAGT', 1111728), ('CATA', 1111755), ('AGGC', 1111776), ('TGGG', 1111779), ('AGAG', 1111782), ('ATGT', 1111794), ('CCGA', 1111850), ('TCGG', 1111860), ('TAAG', 1111869), ('TACC', 1111870), ('ATAT', 1111882), ('ACAG', 1111894), ('ACAT', 1111923), ('CCAG', 1111974), ('CCCA', 1112005), ('CGAA', 1112026), ('GTTA', 1112069), ('ATTA', 1112082), ('ACAC', 1112090), ('TGGA', 1112100), ('GTCA', 1112123), ('GTGC', 1112152), ('TAAT', 1112178), ('CAGA', 1112183), ('CTGG', 1112195), ('TCCA', 1112201), ('CTCT', 1112205), ('TCGA', 1112243), ('GGAT', 1112255), ('TTCG', 1112266), ('ATCC', 1112270), ('TCTG', 1112282), ('TAAC', 1112302), ('ACTC', 1112305), ('TGTG', 1112323), ('CGGT', 1112325), ('GCAC', 1112328), ('GTAA', 1112352), ('GCCG', 1112391), ('TTAC', 1112392), ('ATCT', 1112402), ('GAAG', 1112402), ('GTGG', 1112405), ('CATG', 1112408), ('TATC', 1112435), ('CCTT', 1112443), ('AGAT', 1112449), ('AAGG', 1112457), ('TGAC', 1112478), ('ACCG', 1112516), ('AGAA', 1112531), ('GAAT', 1112581), ('ATTC', 1112584), ('AGTT', 1112587), ('AAGT', 1112593), ('CGGC', 1112652), ('GCGT', 1112675), ('CACA', 1112690), ('CAGT', 1112703), ('GATA', 1112716), ('AGTG', 1112745), ('CGCG', 1112758), ('AGCT', 1112817), ('GCGG', 1112817), ('AGCC', 1112824), ('GAGC', 1112872), ('CTTC', 1112927), ('CCGC', 1112940), ('AAGA', 1112963), ('TCAG', 1112975), ('ACTG', 1113022), ('CGTT', 1113023), ('TTAT', 1113036), ('GGTG', 1113055), ('CTGA', 1113078), ('ACGC', 1113093), ('AACT', 1113095), ('AACG', 1113113), ('TTCT', 1113119), ('GATC', 1113128), ('GCTC', 1113138), ('ATGG', 1113147), ('ACTT', 1113152), ('GGCG', 1113167), ('GGCT', 1113176), ('TGAG', 1113190), ('ATGC', 1113202), ('CCAC', 1113231), ('GGCA', 1113261), ('TGCA', 1113283), ('TATT', 1113287), ('TGCC', 1113297), ('CACT', 1113304), ('TTAA', 1113343), ('GGTT', 1113357), ('TCGC', 1113358), ('ATAA', 1113359), ('GCAT', 1113374), ('AATA', 1113404), ('GCGA', 1113409), ('GCAG', 1113411), ('TGCG', 1113418), ('ACAA', 1113420), ('CGCC', 1113423), ('TTGT', 1113450), ('TCTT', 1113472), ('CCAT', 1113507), ('CTCA', 1113516), ('CGCA', 1113542), ('GTGA', 1113591), ('ATGA', 1113603), ('GTTG', 1113631), ('AATT', 1113666), ('CACC', 1113687), ('AACC', 1113697), ('CTGC', 1113700), ('AGCG', 1113747), ('TCAC', 1113748), ('AATG', 1113760), ('TGTT', 1113801), ('TCAT', 1113846), ('CGCT', 1113857), ('CAAG', 1113941), ('CGAT', 1113948), ('TGGT', 1113957), ('ATCG', 1113971), ('AACA', 1114000), ('CATT', 1114041), ('GCGC', 1114189), ('GATG', 1114213), ('TGCT', 1114221), ('CAAC', 1114231), ('AATC', 1114250), ('AGCA', 1114290), ('GATT', 1114340), ('CTTG', 1114393), ('TAAA', 1114393), ('TTTA', 1114407), ('CATC', 1114446), ('GCTG', 1114492), ('CAGC', 1114516), ('GAAA', 1114598), ('AAAG', 1114613), ('ACCA', 1114689), ('AAGC', 1114812), ('ATTG', 1114931), ('TGAA', 1114939), ('CAAT', 1114973), ('TGGC', 1115084), ('GCTT', 1115121), ('TTTC', 1115125), ('TTGC', 1115165), ('GCCA', 1115168), ('TTGG', 1115173), ('TTCA', 1115192), ('GCAA', 1115263), ('CTTT', 1115298), ('AAAT', 1115348), ('CCAA', 1115351), ('GTTT', 1115410), ('ATCA', 1115616), ('ATTT', 1115737), ('TGAT', 1115745), ('AAAC', 1115796), ('TCAA', 1115878), ('TTGA', 1116080), ('CAAA', 1116767), ('TTTG', 1116913), ('AAAA', 1117848), ('TTTT', 1118456), ('', 2216497)]\n"
          ]
        }
      ],
      "source": [
        "window= 4\n",
        "words={}\n",
        "\n",
        "for i in range(0,len(data)-window+l):\n",
        "    word = data[i:i+window]\n",
        "    cond =word in words\n",
        "    if cond== False:\n",
        "       words[word]=l\n",
        "    elif cond==True:\n",
        "        words[word]+=1\n",
        "\n",
        "print(sorted(words.items(), key=lambda item:item[1]))"
      ]
    }
  ],
  "metadata": {
    "colab": {
      "collapsed_sections": [],
      "name": "Ashly_Mabel_Zuñiga.ipynb",
      "provenance": []
    },
    "kernelspec": {
      "display_name": "Python 3",
      "name": "python3"
    },
    "language_info": {
      "codemirror_mode": {
        "name": "ipython",
        "version": 3
      },
      "file_extension": ".py",
      "mimetype": "text/x-python",
      "name": "python",
      "nbconvert_exporter": "python",
      "pygments_lexer": "ipython3",
      "version": "3.8.10"
    }
  },
  "nbformat": 4,
  "nbformat_minor": 0
}
