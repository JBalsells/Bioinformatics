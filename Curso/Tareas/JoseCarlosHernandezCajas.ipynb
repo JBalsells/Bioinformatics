{
  "nbformat": 4,
  "nbformat_minor": 0,
  "metadata": {
    "colab": {
      "name": "JoseCarlosHernandezCajas.ipynb",
      "provenance": [],
      "collapsed_sections": []
    },
    "kernelspec": {
      "name": "python3",
      "display_name": "Python 3"
    },
    "language_info": {
      "name": "python"
    }
  },
  "cells": [
    {
      "cell_type": "markdown",
      "source": [
        "#Version Python\n",
        "Se consulta la version de Python para futuras referencias."
      ],
      "metadata": {
        "id": "qtOBVzF17-tc"
      }
    },
    {
      "cell_type": "code",
      "source": [
        "!python --version"
      ],
      "metadata": {
        "colab": {
          "base_uri": "https://localhost:8080/"
        },
        "id": "zvNw8w8E8B2D",
        "outputId": "5ff917e1-212d-45c3-fcfe-ef1e214fe02d"
      },
      "execution_count": null,
      "outputs": [
        {
          "output_type": "stream",
          "name": "stdout",
          "text": [
            "Python 3.7.13\n"
          ]
        }
      ]
    },
    {
      "cell_type": "markdown",
      "source": [
        "#Problema 1\n",
        "Funcion para la carga de archivos para futuros analisis.\n",
        "Devuelve la cantidad de caracteres presente en el archivo."
      ],
      "metadata": {
        "id": "w-wC9CoFbpTE"
      }
    },
    {
      "cell_type": "code",
      "source": [
        "from google.colab import files\n",
        "cargados = files.upload()\n",
        "archivo = 'Vibrio_cholerae.txt'\n",
        "with open (archivo,'r',encoding = 'utf8') as file :\n",
        "    data = file.read()\n",
        "print(len(data))"
      ],
      "metadata": {
        "id": "uFK4AJzjbyWr",
        "colab": {
          "base_uri": "https://localhost:8080/",
          "resources": {
            "http://localhost:8080/nbextensions/google.colab/files.js": {
              "data": "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",
              "ok": true,
              "headers": [
                [
                  "content-type",
                  "application/javascript"
                ]
              ],
              "status": 200,
              "status_text": ""
            }
          },
          "height": 90
        },
        "outputId": "4eb479f0-488a-4891-ee6b-8a75d9596c1d"
      },
      "execution_count": null,
      "outputs": [
        {
          "output_type": "display_data",
          "data": {
            "text/plain": [
              "<IPython.core.display.HTML object>"
            ],
            "text/html": [
              "\n",
              "     <input type=\"file\" id=\"files-d85f0fc7-453c-4c65-b9a6-bbf2377d69c4\" name=\"files[]\" multiple disabled\n",
              "        style=\"border:none\" />\n",
              "     <output id=\"result-d85f0fc7-453c-4c65-b9a6-bbf2377d69c4\">\n",
              "      Upload widget is only available when the cell has been executed in the\n",
              "      current browser session. Please rerun this cell to enable.\n",
              "      </output>\n",
              "      <script src=\"/nbextensions/google.colab/files.js\"></script> "
            ]
          },
          "metadata": {}
        },
        {
          "output_type": "stream",
          "name": "stdout",
          "text": [
            "Saving Vibrio_cholerae.txt to Vibrio_cholerae.txt\n",
            "1108251\n"
          ]
        }
      ]
    },
    {
      "cell_type": "markdown",
      "source": [
        "#Problema 2\n",
        "Funcion que determina el porcentaje de nucleotidos presentes en una cadena.\n",
        "Devuelve el porcentaje con 2 decimales."
      ],
      "metadata": {
        "id": "MiPmwbAcb0bp"
      }
    },
    {
      "cell_type": "code",
      "source": [
        "def porcentaje_de_nucleotidos (cadena,nucleotido):\n",
        "  longitud = len(cadena)\n",
        "  cantidad_necleotido = cadena.count(nucleotido)\n",
        "  porcentaje = round(cantidad_necleotido * 100 / longitud,2)\n",
        "  return porcentaje"
      ],
      "metadata": {
        "id": "Z4M1EDcGNiJB"
      },
      "execution_count": null,
      "outputs": []
    },
    {
      "cell_type": "code",
      "source": [
        "A = porcentaje_de_nucleotidos (data,'A')\n",
        "C = porcentaje_de_nucleotidos (data,'C')\n",
        "T = porcentaje_de_nucleotidos (data,'T')\n",
        "G = porcentaje_de_nucleotidos (data,'G')\n",
        "print('Adeninas: '+str(A))\n",
        "print('Citosinas: '+str(C))\n",
        "print('Timinas: '+str(T))\n",
        "print('Guaninas: '+str(G))\n",
        "print('Longitud de cadena: '+str(len(data)))\n"
      ],
      "metadata": {
        "colab": {
          "base_uri": "https://localhost:8080/"
        },
        "id": "5iHTQPBGPjh3",
        "outputId": "e0ba8d56-55c6-4f46-ca16-6c0faff71c85"
      },
      "execution_count": null,
      "outputs": [
        {
          "output_type": "stream",
          "name": "stdout",
          "text": [
            "293942\n",
            "263573\n",
            "294711\n",
            "256024\n",
            "0\n",
            "x: \n",
            "Adeninas: 26.52\n",
            "Citosinas: 23.78\n",
            "Timinas: 26.59\n",
            "Guaninas: 23.1\n",
            "Longitud de cadena: 1108251\n"
          ]
        }
      ]
    },
    {
      "cell_type": "markdown",
      "source": [
        "#Problema 3\n",
        "Funcion para crear un complemente de una cadena que se ingrese\n",
        "Devuelve una cadena con el complemento"
      ],
      "metadata": {
        "id": "K4X65PLaR9Qz"
      }
    },
    {
      "cell_type": "code",
      "source": [
        "def buscar_complemento (cadena,indice):\n",
        "  cadenaTemp = cadena[indice:indice+100]\n",
        "  diccionario_cadenas = {}\n",
        "  complemento = ''\n",
        "  for nucleotidoTemp in cadenaTemp:  \n",
        "    if nucleotidoTemp == ' ' :\n",
        "      complemento = ''+complemento\n",
        "    elif nucleotidoTemp == 'A' :\n",
        "      complemento ='T'+complemento\n",
        "    elif nucleotidoTemp == 'T' :\n",
        "      complemento ='A'+complemento\n",
        "    elif nucleotidoTemp == 'C' :\n",
        "      complemento ='G'+complemento\n",
        "    elif nucleotidoTemp == 'G' :\n",
        "      complemento ='C'+complemento\n",
        "  diccionario_cadenas = {'cadena':cadenaTemp, 'complemento':complemento}\n",
        "  return diccionario_cadenas"
      ],
      "metadata": {
        "id": "2lEo9m2ESBRL"
      },
      "execution_count": null,
      "outputs": []
    },
    {
      "cell_type": "code",
      "source": [
        "print(buscar_complemento(data,0))"
      ],
      "metadata": {
        "colab": {
          "base_uri": "https://localhost:8080/"
        },
        "id": "frdFLfaAXuc2",
        "outputId": "d11a0233-7001-4027-94d0-d17b66846449"
      },
      "execution_count": null,
      "outputs": [
        {
          "output_type": "stream",
          "name": "stdout",
          "text": [
            "{'cadena': 'ACAATGAGGTCACTATGTTCGAGCTCTTCAAACCGGCTGCGCATACGCAGCGGCTGCCATCCGATAAGGTGGACAGCGTCTATTCACGCCTTCGTTGGCA', 'complemento': 'TGCCAACGAAGGCGTGAATAGACGCTGTCCACCTTATCGGATGGCAGCCGCTGCGTATGCGCAGCCGGTTTGAAGAGCTCGAACATAGTGACCTCATTGT'}\n"
          ]
        }
      ]
    },
    {
      "cell_type": "markdown",
      "source": [
        "#Problema 4\n",
        "Funcion que busca el indice de una palabra en una cadena, si existe varias veces la palabra ingresa varios indices.\n",
        "Devuelve el arrrelgo con los indice(s)."
      ],
      "metadata": {
        "id": "TOxar_LEYrC7"
      }
    },
    {
      "cell_type": "code",
      "source": [
        "def buscar_indices (nucleotidos,palabra):\n",
        "  indice = []\n",
        "  lenNucleotidos = len(nucleotidos)\n",
        "  lenPalabra = len (palabra)\n",
        "  if (lenPalabra>=lenNucleotidos):\n",
        "    indice = []\n",
        "  else:\n",
        "    for index in range(lenNucleotidos-lenPalabra):\n",
        "      if nucleotidos[index:index+lenPalabra]==palabra:\n",
        "        indice.append(index)\n",
        "  return indice"
      ],
      "metadata": {
        "id": "4eeombXFYuiZ"
      },
      "execution_count": null,
      "outputs": []
    },
    {
      "cell_type": "code",
      "source": [
        "print('Indice de busqueda: ',buscar_indices ('AGCTGCGAGCTACGTGAGCTCGAAATAAAGCTAGCTCGATA','AGCT'))\n",
        "print('Indice de busqueda: ',buscar_indices (data,'AGCTAT'))\n"
      ],
      "metadata": {
        "colab": {
          "base_uri": "https://localhost:8080/"
        },
        "id": "PL61SIHLyymE",
        "outputId": "ac540aa0-619c-430a-b3ab-c5dec1894ff2"
      },
      "execution_count": null,
      "outputs": [
        {
          "output_type": "stream",
          "name": "stdout",
          "text": [
            "Indice de busqueda:  [0, 7, 16, 28, 32]\n",
            "Indice de busqueda:  [11933, 12451, 14550, 33503, 34429, 39110, 43591, 46992, 51721, 59706, 60031, 62794, 73977, 90150, 106249, 113355, 125336, 126685, 134046, 149446, 152993, 154915, 161215, 161863, 183429, 183754, 185317, 206419, 213270, 218204, 256710, 258289, 259243, 262935, 266966, 267698, 274704, 276425, 294290, 298471, 310605, 315512, 322763, 339021, 339047, 340384, 342571, 356337, 365874, 376829, 383208, 383378, 383744, 388290, 389479, 390786, 416681, 417921, 420465, 422816, 424610, 436897, 437925, 448386, 450583, 452301, 471168, 472951, 476924, 479000, 479222, 480282, 481931, 483326, 487763, 489957, 490445, 492064, 500914, 508542, 508733, 509473, 529037, 535988, 540343, 549347, 552474, 556524, 558794, 559566, 561345, 596317, 605534, 611890, 618014, 646642, 648018, 652430, 654732, 659173, 659505, 669101, 681734, 682819, 689916, 696467, 700159, 710376, 718333, 720772, 723524, 725997, 727902, 734356, 744870, 751038, 768707, 769727, 773383, 773624, 776823, 793178, 794057, 797189, 811943, 814677, 815675, 815861, 816137, 820096, 821638, 832840, 839794, 840063, 846602, 850127, 855357, 856037, 860762, 862113, 863085, 870165, 879863, 885103, 898158, 898357, 898768, 914023, 920901, 921694, 921812, 936565, 936799, 941986, 949904, 951206, 982035, 989695, 992931, 1004012, 1013265, 1018315, 1026212, 1030508, 1045511, 1046232, 1049491, 1065150, 1069290, 1075076, 1076748, 1091672, 1096829]\n"
          ]
        }
      ]
    },
    {
      "cell_type": "markdown",
      "source": [
        "#Problema 5\n",
        "Funcion que busca la cantidad de palabras contenidas en una cadena. \n",
        "Devuelve la cantidad expresada en un numero\n",
        "\n"
      ],
      "metadata": {
        "id": "nNKz7yps1VcO"
      }
    },
    {
      "cell_type": "code",
      "source": [
        "def total_de_palabras (nucleotidos,palabra):\n",
        "  cantidadPalabras = 0\n",
        "  lenNucleotidos = len(nucleotidos)\n",
        "  lenPalabra = len (palabra)\n",
        "  if (lenPalabra>=lenNucleotidos):\n",
        "    cantidadPalabras = 0\n",
        "  else:\n",
        "    cantidadPalabras = nucleotidos.count(palabra)\n",
        "    #for index in range(lenNucleotidos-lenPalabra):\n",
        "    #  if nucleotidos[index:index+lenPalabra]==palabra:\n",
        "    #    cantidadPalabras = cantidadPalabras + 1\n",
        "  return cantidadPalabras "
      ],
      "metadata": {
        "id": "YTktXeqT1bWx"
      },
      "execution_count": null,
      "outputs": []
    },
    {
      "cell_type": "code",
      "source": [
        "print('Total de palabras: ',total_de_palabras ('AGCTGCGAGCTACGTGAGCTCGAAATAAAGCTAGCTCGATA','AGCT'))\n",
        "print('Total de palabras: ',total_de_palabras (data,'AGCTAT'))"
      ],
      "metadata": {
        "colab": {
          "base_uri": "https://localhost:8080/"
        },
        "id": "wEpat3Jc14Dg",
        "outputId": "c3aa4767-1e79-4653-d604-2510f24dbf01"
      },
      "execution_count": null,
      "outputs": [
        {
          "output_type": "stream",
          "name": "stdout",
          "text": [
            "Total de palabras:  5\n",
            "Total de palabras:  173\n"
          ]
        }
      ]
    },
    {
      "cell_type": "markdown",
      "source": [
        "#Problema 6\n",
        "Funcion a la cual se le ingresa una cadena, calcuna subcadenas y calcula el porcentaje de nucleotidos presentes. Devuelve un diccionario con la informacion"
      ],
      "metadata": {
        "id": "FnuJhA7g2uUA"
      }
    },
    {
      "cell_type": "code",
      "source": [
        "def split_equal_strings (nucleotidos, n):\n",
        "  index1 = 0\n",
        "  index2 = 0\n",
        "  diccionario = {}\n",
        "  if (n>=len(nucleotidos)):\n",
        "    diccionario = {}\n",
        "  else:\n",
        "    for index1 in range(n, len(nucleotidos)+1):\n",
        "      for index2 in range(0,len(nucleotidos) - index1+1):\n",
        "        subCadena = nucleotidos[index2:index2+index1]\n",
        "        diccionarioTemp = {'A':str(round(subCadena.count('A') * 100 / len(subCadena),2))+'%','C':str(round(subCadena.count('C') * 100 / len(subCadena),2))+'%','T':str(round(subCadena.count('T') * 100 / len(subCadena),2))+'%','G':str(round(subCadena.count('G') * 100 / len(subCadena),2))+'%','longitud':index1}\n",
        "        #print (diccionarioTemp)\n",
        "        diccionario[subCadena] = {'A':str(round(subCadena.count('A') * 100 / len(subCadena),2))+'%','C':str(round(subCadena.count('C') * 100 / len(subCadena),2))+'%','T':str(round(subCadena.count('T') * 100 / len(subCadena),2))+'%','G':str(round(subCadena.count('G') * 100 / len(subCadena),2))+'%','longitud':index1}\n",
        "        \n",
        "        \n",
        "  return diccionario"
      ],
      "metadata": {
        "id": "oyrm6HJq2w4o"
      },
      "execution_count": null,
      "outputs": []
    },
    {
      "cell_type": "code",
      "source": [
        "respuesta = split_equal_strings('AGCTCGTAAA',8)\n",
        "print(respuesta)"
      ],
      "metadata": {
        "colab": {
          "base_uri": "https://localhost:8080/"
        },
        "id": "aVGEZUYZ5ilE",
        "outputId": "e998d7a9-9436-4f65-c841-2b64222d8602"
      },
      "execution_count": 177,
      "outputs": [
        {
          "output_type": "stream",
          "name": "stdout",
          "text": [
            "{'AGCTCGTA': {'A': '25.0%', 'C': '25.0%', 'T': '25.0%', 'G': '25.0%', 'longitud': 8}, 'GCTCGTAA': {'A': '25.0%', 'C': '25.0%', 'T': '25.0%', 'G': '25.0%', 'longitud': 8}, 'CTCGTAAA': {'A': '37.5%', 'C': '25.0%', 'T': '25.0%', 'G': '12.5%', 'longitud': 8}, 'AGCTCGTAA': {'A': '33.33%', 'C': '22.22%', 'T': '22.22%', 'G': '22.22%', 'longitud': 9}, 'GCTCGTAAA': {'A': '33.33%', 'C': '22.22%', 'T': '22.22%', 'G': '22.22%', 'longitud': 9}, 'AGCTCGTAAA': {'A': '40.0%', 'C': '20.0%', 'T': '20.0%', 'G': '20.0%', 'longitud': 10}}\n"
          ]
        }
      ]
    },
    {
      "cell_type": "markdown",
      "source": [
        "#Problema 7"
      ],
      "metadata": {
        "id": "4-Gca-ogagu-"
      }
    },
    {
      "cell_type": "code",
      "source": [
        "def search_words(nucleotidos, longitud):\n",
        "  diccionario={}\n",
        "  if (longitud >=0 ):\n",
        "      if(len(nucleotidos)>=0):\n",
        "        if(len(nucleotidos)>=longitud):\n",
        "          #for index2 in range(longitud,len(nucleotidos)):\n",
        "            index2 = longitud\n",
        "            for index1 in range(0,len(nucleotidos)-index2):\n",
        "              subCadena=nucleotidos[index1:index1+index2]\n",
        "              diccionarioTemp=diccionario.get(subCadena)\n",
        "              if(diccionarioTemp== None):\n",
        "\n",
        "                diccionario[subCadena] = {'longitud':index2,'repetido':nucleotidos.count(subCadena),'index':buscar_indices(nucleotidos,subCadena)}              \n",
        "        else:\n",
        "          diccionario={'codigo':703,'error':'la longitud ingresada es mayo al tamaño del nucleotido'}\n",
        "      else:\n",
        "        diccionario={'codigo':702,'error':'el nucleotido esta vacio'}\n",
        "  else:\n",
        "    diccionario={'codigo':701,'error':'la longitud no es correcta'}\n",
        "  return diccionario\n"
      ],
      "metadata": {
        "id": "TutBv1sAalNa"
      },
      "execution_count": 178,
      "outputs": []
    },
    {
      "cell_type": "code",
      "source": [
        "#print(search_words('AGCTGCGAGCTACGTGAGCTCGAAATAAAGCTAGCTCGATA',1))\n",
        "print(search_words(data,25))\n"
      ],
      "metadata": {
        "colab": {
          "base_uri": "https://localhost:8080/",
          "height": 328
        },
        "id": "fKlzVKG4fefZ",
        "outputId": "919536f3-a300-4418-9352-2687fc3b39b9"
      },
      "execution_count": 180,
      "outputs": [
        {
          "output_type": "error",
          "ename": "KeyboardInterrupt",
          "evalue": "ignored",
          "traceback": [
            "\u001b[0;31m---------------------------------------------------------------------------\u001b[0m",
            "\u001b[0;31mKeyboardInterrupt\u001b[0m                         Traceback (most recent call last)",
            "\u001b[0;32m<ipython-input-180-c448634b7aff>\u001b[0m in \u001b[0;36m<module>\u001b[0;34m()\u001b[0m\n\u001b[1;32m      1\u001b[0m \u001b[0;31m#print(search_words('AGCTGCGAGCTACGTGAGCTCGAAATAAAGCTAGCTCGATA',1))\u001b[0m\u001b[0;34m\u001b[0m\u001b[0;34m\u001b[0m\u001b[0;34m\u001b[0m\u001b[0m\n\u001b[0;32m----> 2\u001b[0;31m \u001b[0mprint\u001b[0m\u001b[0;34m(\u001b[0m\u001b[0msearch_words\u001b[0m\u001b[0;34m(\u001b[0m\u001b[0mdata\u001b[0m\u001b[0;34m,\u001b[0m\u001b[0;36m25\u001b[0m\u001b[0;34m)\u001b[0m\u001b[0;34m)\u001b[0m\u001b[0;34m\u001b[0m\u001b[0;34m\u001b[0m\u001b[0m\n\u001b[0m",
            "\u001b[0;32m<ipython-input-178-e77dcab77050>\u001b[0m in \u001b[0;36msearch_words\u001b[0;34m(nucleotidos, longitud)\u001b[0m\n\u001b[1;32m     11\u001b[0m               \u001b[0;32mif\u001b[0m\u001b[0;34m(\u001b[0m\u001b[0mdiccionarioTemp\u001b[0m\u001b[0;34m==\u001b[0m \u001b[0;32mNone\u001b[0m\u001b[0;34m)\u001b[0m\u001b[0;34m:\u001b[0m\u001b[0;34m\u001b[0m\u001b[0;34m\u001b[0m\u001b[0m\n\u001b[1;32m     12\u001b[0m \u001b[0;34m\u001b[0m\u001b[0m\n\u001b[0;32m---> 13\u001b[0;31m                 \u001b[0mdiccionario\u001b[0m\u001b[0;34m[\u001b[0m\u001b[0msubCadena\u001b[0m\u001b[0;34m]\u001b[0m \u001b[0;34m=\u001b[0m \u001b[0;34m{\u001b[0m\u001b[0;34m'longitud'\u001b[0m\u001b[0;34m:\u001b[0m\u001b[0mindex2\u001b[0m\u001b[0;34m,\u001b[0m\u001b[0;34m'repetido'\u001b[0m\u001b[0;34m:\u001b[0m\u001b[0mnucleotidos\u001b[0m\u001b[0;34m.\u001b[0m\u001b[0mcount\u001b[0m\u001b[0;34m(\u001b[0m\u001b[0msubCadena\u001b[0m\u001b[0;34m)\u001b[0m\u001b[0;34m,\u001b[0m\u001b[0;34m'index'\u001b[0m\u001b[0;34m:\u001b[0m\u001b[0mbuscar_indices\u001b[0m\u001b[0;34m(\u001b[0m\u001b[0mnucleotidos\u001b[0m\u001b[0;34m,\u001b[0m\u001b[0msubCadena\u001b[0m\u001b[0;34m)\u001b[0m\u001b[0;34m}\u001b[0m\u001b[0;34m\u001b[0m\u001b[0;34m\u001b[0m\u001b[0m\n\u001b[0m\u001b[1;32m     14\u001b[0m         \u001b[0;32melse\u001b[0m\u001b[0;34m:\u001b[0m\u001b[0;34m\u001b[0m\u001b[0;34m\u001b[0m\u001b[0m\n\u001b[1;32m     15\u001b[0m           \u001b[0mdiccionario\u001b[0m\u001b[0;34m=\u001b[0m\u001b[0;34m{\u001b[0m\u001b[0;34m'codigo'\u001b[0m\u001b[0;34m:\u001b[0m\u001b[0;36m703\u001b[0m\u001b[0;34m,\u001b[0m\u001b[0;34m'error'\u001b[0m\u001b[0;34m:\u001b[0m\u001b[0;34m'la longitud ingresada es mayo al tamaño del nucleotido'\u001b[0m\u001b[0;34m}\u001b[0m\u001b[0;34m\u001b[0m\u001b[0;34m\u001b[0m\u001b[0m\n",
            "\u001b[0;32m<ipython-input-15-66e670f19e2b>\u001b[0m in \u001b[0;36mbuscar_indices\u001b[0;34m(nucleotidos, palabra)\u001b[0m\n\u001b[1;32m      7\u001b[0m   \u001b[0;32melse\u001b[0m\u001b[0;34m:\u001b[0m\u001b[0;34m\u001b[0m\u001b[0;34m\u001b[0m\u001b[0m\n\u001b[1;32m      8\u001b[0m     \u001b[0;32mfor\u001b[0m \u001b[0mindex\u001b[0m \u001b[0;32min\u001b[0m \u001b[0mrange\u001b[0m\u001b[0;34m(\u001b[0m\u001b[0mlenNucleotidos\u001b[0m\u001b[0;34m-\u001b[0m\u001b[0mlenPalabra\u001b[0m\u001b[0;34m)\u001b[0m\u001b[0;34m:\u001b[0m\u001b[0;34m\u001b[0m\u001b[0;34m\u001b[0m\u001b[0m\n\u001b[0;32m----> 9\u001b[0;31m       \u001b[0;32mif\u001b[0m \u001b[0mnucleotidos\u001b[0m\u001b[0;34m[\u001b[0m\u001b[0mindex\u001b[0m\u001b[0;34m:\u001b[0m\u001b[0mindex\u001b[0m\u001b[0;34m+\u001b[0m\u001b[0mlenPalabra\u001b[0m\u001b[0;34m]\u001b[0m\u001b[0;34m==\u001b[0m\u001b[0mpalabra\u001b[0m\u001b[0;34m:\u001b[0m\u001b[0;34m\u001b[0m\u001b[0;34m\u001b[0m\u001b[0m\n\u001b[0m\u001b[1;32m     10\u001b[0m         \u001b[0mindice\u001b[0m\u001b[0;34m.\u001b[0m\u001b[0mappend\u001b[0m\u001b[0;34m(\u001b[0m\u001b[0mindex\u001b[0m\u001b[0;34m)\u001b[0m\u001b[0;34m\u001b[0m\u001b[0;34m\u001b[0m\u001b[0m\n\u001b[1;32m     11\u001b[0m   \u001b[0;32mreturn\u001b[0m \u001b[0mindice\u001b[0m\u001b[0;34m\u001b[0m\u001b[0;34m\u001b[0m\u001b[0m\n",
            "\u001b[0;31mKeyboardInterrupt\u001b[0m: "
          ]
        }
      ]
    }
  ]
}